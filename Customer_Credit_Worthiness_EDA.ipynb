{
 "cells": [
  {
   "cell_type": "markdown",
   "id": "35881078",
   "metadata": {},
   "source": [
    "# Generate your hypothesis on what impact independent features have on the target variable and back that up with insights from the data and highlight major differences from suggested impact in Milestone 1.\n",
    "\n"
   ]
  },
  {
   "cell_type": "code",
   "execution_count": 1,
   "id": "de7f8bf8",
   "metadata": {},
   "outputs": [],
   "source": [
    "# Import neccessary Libraries\n",
    "\n",
    "import numpy as np\n",
    "import pandas as pd\n",
    "import seaborn as sbn\n",
    "import matplotlib.pyplot as plt"
   ]
  },
  {
   "cell_type": "code",
   "execution_count": 2,
   "id": "ca8aa1a9",
   "metadata": {},
   "outputs": [],
   "source": [
    "# Importing Dataset\n",
    "\n",
    "train=pd.read_excel(\"Consumer creditworthiness train data.xlsx\")\n"
   ]
  },
  {
   "cell_type": "code",
   "execution_count": 3,
   "id": "71492f30",
   "metadata": {},
   "outputs": [
    {
     "data": {
      "text/plain": [
       "(521, 13)"
      ]
     },
     "execution_count": 3,
     "metadata": {},
     "output_type": "execute_result"
    }
   ],
   "source": [
    "train.shape"
   ]
  },
  {
   "cell_type": "code",
   "execution_count": 4,
   "id": "b21898db",
   "metadata": {},
   "outputs": [
    {
     "data": {
      "text/html": [
       "<div>\n",
       "<style scoped>\n",
       "    .dataframe tbody tr th:only-of-type {\n",
       "        vertical-align: middle;\n",
       "    }\n",
       "\n",
       "    .dataframe tbody tr th {\n",
       "        vertical-align: top;\n",
       "    }\n",
       "\n",
       "    .dataframe thead th {\n",
       "        text-align: right;\n",
       "    }\n",
       "</style>\n",
       "<table border=\"1\" class=\"dataframe\">\n",
       "  <thead>\n",
       "    <tr style=\"text-align: right;\">\n",
       "      <th></th>\n",
       "      <th>Loan_ID</th>\n",
       "      <th>Gender</th>\n",
       "      <th>Married</th>\n",
       "      <th>Dependents</th>\n",
       "      <th>Education</th>\n",
       "      <th>Self_Employed</th>\n",
       "      <th>ApplicantIncome</th>\n",
       "      <th>CoapplicantIncome</th>\n",
       "      <th>LoanAmount</th>\n",
       "      <th>Loan_Amount_Term</th>\n",
       "      <th>Credit_History</th>\n",
       "      <th>Property_Area</th>\n",
       "      <th>Loan_Status</th>\n",
       "    </tr>\n",
       "  </thead>\n",
       "  <tbody>\n",
       "    <tr>\n",
       "      <th>0</th>\n",
       "      <td>294853</td>\n",
       "      <td>Male</td>\n",
       "      <td>No</td>\n",
       "      <td>0</td>\n",
       "      <td>Graduate</td>\n",
       "      <td>No</td>\n",
       "      <td>1316025</td>\n",
       "      <td>0.0</td>\n",
       "      <td>250000</td>\n",
       "      <td>360.0</td>\n",
       "      <td>1.0</td>\n",
       "      <td>Urban</td>\n",
       "      <td>Y</td>\n",
       "    </tr>\n",
       "    <tr>\n",
       "      <th>1</th>\n",
       "      <td>162883</td>\n",
       "      <td>Male</td>\n",
       "      <td>Yes</td>\n",
       "      <td>1</td>\n",
       "      <td>Graduate</td>\n",
       "      <td>No</td>\n",
       "      <td>1031175</td>\n",
       "      <td>339300.0</td>\n",
       "      <td>256000</td>\n",
       "      <td>360.0</td>\n",
       "      <td>1.0</td>\n",
       "      <td>Rural</td>\n",
       "      <td>N</td>\n",
       "    </tr>\n",
       "    <tr>\n",
       "      <th>2</th>\n",
       "      <td>620668</td>\n",
       "      <td>Male</td>\n",
       "      <td>Yes</td>\n",
       "      <td>0</td>\n",
       "      <td>Graduate</td>\n",
       "      <td>Yes</td>\n",
       "      <td>675000</td>\n",
       "      <td>0.0</td>\n",
       "      <td>132000</td>\n",
       "      <td>360.0</td>\n",
       "      <td>1.0</td>\n",
       "      <td>Urban</td>\n",
       "      <td>Y</td>\n",
       "    </tr>\n",
       "    <tr>\n",
       "      <th>3</th>\n",
       "      <td>295747</td>\n",
       "      <td>Male</td>\n",
       "      <td>Yes</td>\n",
       "      <td>0</td>\n",
       "      <td>Not Graduate</td>\n",
       "      <td>No</td>\n",
       "      <td>581175</td>\n",
       "      <td>530550.0</td>\n",
       "      <td>240000</td>\n",
       "      <td>360.0</td>\n",
       "      <td>1.0</td>\n",
       "      <td>Urban</td>\n",
       "      <td>Y</td>\n",
       "    </tr>\n",
       "    <tr>\n",
       "      <th>4</th>\n",
       "      <td>133390</td>\n",
       "      <td>Male</td>\n",
       "      <td>No</td>\n",
       "      <td>0</td>\n",
       "      <td>Graduate</td>\n",
       "      <td>No</td>\n",
       "      <td>1350000</td>\n",
       "      <td>0.0</td>\n",
       "      <td>282000</td>\n",
       "      <td>360.0</td>\n",
       "      <td>1.0</td>\n",
       "      <td>Urban</td>\n",
       "      <td>Y</td>\n",
       "    </tr>\n",
       "  </tbody>\n",
       "</table>\n",
       "</div>"
      ],
      "text/plain": [
       "   Loan_ID Gender Married Dependents     Education Self_Employed  \\\n",
       "0   294853   Male      No          0      Graduate            No   \n",
       "1   162883   Male     Yes          1      Graduate            No   \n",
       "2   620668   Male     Yes          0      Graduate           Yes   \n",
       "3   295747   Male     Yes          0  Not Graduate            No   \n",
       "4   133390   Male      No          0      Graduate            No   \n",
       "\n",
       "   ApplicantIncome  CoapplicantIncome  LoanAmount  Loan_Amount_Term  \\\n",
       "0          1316025                0.0      250000             360.0   \n",
       "1          1031175           339300.0      256000             360.0   \n",
       "2           675000                0.0      132000             360.0   \n",
       "3           581175           530550.0      240000             360.0   \n",
       "4          1350000                0.0      282000             360.0   \n",
       "\n",
       "   Credit_History Property_Area Loan_Status  \n",
       "0             1.0         Urban           Y  \n",
       "1             1.0         Rural           N  \n",
       "2             1.0         Urban           Y  \n",
       "3             1.0         Urban           Y  \n",
       "4             1.0         Urban           Y  "
      ]
     },
     "execution_count": 4,
     "metadata": {},
     "output_type": "execute_result"
    }
   ],
   "source": [
    "train.head()"
   ]
  },
  {
   "cell_type": "code",
   "execution_count": 5,
   "id": "e0759aa1",
   "metadata": {},
   "outputs": [
    {
     "name": "stdout",
     "output_type": "stream",
     "text": [
      "<class 'pandas.core.frame.DataFrame'>\n",
      "RangeIndex: 521 entries, 0 to 520\n",
      "Data columns (total 13 columns):\n",
      " #   Column             Non-Null Count  Dtype  \n",
      "---  ------             --------------  -----  \n",
      " 0   Loan_ID            521 non-null    int64  \n",
      " 1   Gender             511 non-null    object \n",
      " 2   Married            518 non-null    object \n",
      " 3   Dependents         508 non-null    object \n",
      " 4   Education          521 non-null    object \n",
      " 5   Self_Employed      494 non-null    object \n",
      " 6   ApplicantIncome    521 non-null    int64  \n",
      " 7   CoapplicantIncome  521 non-null    float64\n",
      " 8   LoanAmount         521 non-null    int64  \n",
      " 9   Loan_Amount_Term   507 non-null    float64\n",
      " 10  Credit_History     478 non-null    float64\n",
      " 11  Property_Area      521 non-null    object \n",
      " 12  Loan_Status        521 non-null    object \n",
      "dtypes: float64(3), int64(3), object(7)\n",
      "memory usage: 53.0+ KB\n"
     ]
    }
   ],
   "source": [
    "train.info()"
   ]
  },
  {
   "cell_type": "code",
   "execution_count": 6,
   "id": "6a0535a1",
   "metadata": {},
   "outputs": [
    {
     "data": {
      "text/plain": [
       "Index(['Loan_ID', 'Gender', 'Married', 'Dependents', 'Education',\n",
       "       'Self_Employed', 'ApplicantIncome', 'CoapplicantIncome', 'LoanAmount',\n",
       "       'Loan_Amount_Term', 'Credit_History', 'Property_Area', 'Loan_Status'],\n",
       "      dtype='object')"
      ]
     },
     "execution_count": 6,
     "metadata": {},
     "output_type": "execute_result"
    }
   ],
   "source": [
    "train.columns"
   ]
  },
  {
   "cell_type": "code",
   "execution_count": 7,
   "id": "312c5cce",
   "metadata": {},
   "outputs": [
    {
     "data": {
      "text/plain": [
       "Loan_ID               0\n",
       "Gender               10\n",
       "Married               3\n",
       "Dependents           13\n",
       "Education             0\n",
       "Self_Employed        27\n",
       "ApplicantIncome       0\n",
       "CoapplicantIncome     0\n",
       "LoanAmount            0\n",
       "Loan_Amount_Term     14\n",
       "Credit_History       43\n",
       "Property_Area         0\n",
       "Loan_Status           0\n",
       "dtype: int64"
      ]
     },
     "execution_count": 7,
     "metadata": {},
     "output_type": "execute_result"
    }
   ],
   "source": [
    "train.isnull().sum()"
   ]
  },
  {
   "cell_type": "markdown",
   "id": "04c7053b",
   "metadata": {},
   "source": [
    "# Observations from the given data\n",
    "\n",
    "1. There are 13 columns and 521 rows\n",
    "2. The target variable is Loan_Status\n",
    "3. The independent features are 'Loan_ID', 'Gender', 'Married', 'Dependents', 'Education','Self_Employed',   'ApplicantIncome', 'CoapplicantIncome', 'LoanAmount','Loan_Amount_Term', 'Credit_History', 'Property_Area'.\n",
    "4. float dtypes are :CoapplicantIncome,Loan_Amount_Term,Credit_History\n",
    "5. Int dtypes are : Loan_ID,ApplicantIncome ,LoanAmount\n",
    "6. Object dtypes are : 'Gender', 'Married', 'Dependents', 'Education','Self_Employed,'Property_Area', 'Loan_Status'\n",
    "7. Target variable is object dtype\n",
    "8. Null values are there : credit history has the maximum(43) , then self employed(27) ,Loan_Amount_Term(14),Dependents(13),Gender(10)\n",
    "\n",
    "       \n",
    "\n"
   ]
  },
  {
   "cell_type": "code",
   "execution_count": 8,
   "id": "55735038",
   "metadata": {},
   "outputs": [
    {
     "data": {
      "text/html": [
       "<div>\n",
       "<style scoped>\n",
       "    .dataframe tbody tr th:only-of-type {\n",
       "        vertical-align: middle;\n",
       "    }\n",
       "\n",
       "    .dataframe tbody tr th {\n",
       "        vertical-align: top;\n",
       "    }\n",
       "\n",
       "    .dataframe thead th {\n",
       "        text-align: right;\n",
       "    }\n",
       "</style>\n",
       "<table border=\"1\" class=\"dataframe\">\n",
       "  <thead>\n",
       "    <tr style=\"text-align: right;\">\n",
       "      <th></th>\n",
       "      <th>Loan_ID</th>\n",
       "      <th>Gender</th>\n",
       "      <th>Married</th>\n",
       "      <th>Dependents</th>\n",
       "      <th>Education</th>\n",
       "      <th>Self_Employed</th>\n",
       "      <th>ApplicantIncome</th>\n",
       "      <th>CoapplicantIncome</th>\n",
       "      <th>LoanAmount</th>\n",
       "      <th>Loan_Amount_Term</th>\n",
       "      <th>Credit_History</th>\n",
       "      <th>Property_Area</th>\n",
       "      <th>Loan_Status</th>\n",
       "    </tr>\n",
       "  </thead>\n",
       "  <tbody>\n",
       "    <tr>\n",
       "      <th>count</th>\n",
       "      <td>521.000000</td>\n",
       "      <td>511</td>\n",
       "      <td>518</td>\n",
       "      <td>508.0</td>\n",
       "      <td>521</td>\n",
       "      <td>494</td>\n",
       "      <td>5.210000e+02</td>\n",
       "      <td>5.210000e+02</td>\n",
       "      <td>5.210000e+02</td>\n",
       "      <td>507.000000</td>\n",
       "      <td>478.000000</td>\n",
       "      <td>521</td>\n",
       "      <td>521</td>\n",
       "    </tr>\n",
       "    <tr>\n",
       "      <th>unique</th>\n",
       "      <td>NaN</td>\n",
       "      <td>2</td>\n",
       "      <td>2</td>\n",
       "      <td>4.0</td>\n",
       "      <td>2</td>\n",
       "      <td>2</td>\n",
       "      <td>NaN</td>\n",
       "      <td>NaN</td>\n",
       "      <td>NaN</td>\n",
       "      <td>NaN</td>\n",
       "      <td>NaN</td>\n",
       "      <td>3</td>\n",
       "      <td>2</td>\n",
       "    </tr>\n",
       "    <tr>\n",
       "      <th>top</th>\n",
       "      <td>NaN</td>\n",
       "      <td>Male</td>\n",
       "      <td>Yes</td>\n",
       "      <td>0.0</td>\n",
       "      <td>Graduate</td>\n",
       "      <td>No</td>\n",
       "      <td>NaN</td>\n",
       "      <td>NaN</td>\n",
       "      <td>NaN</td>\n",
       "      <td>NaN</td>\n",
       "      <td>NaN</td>\n",
       "      <td>Semiurban</td>\n",
       "      <td>Y</td>\n",
       "    </tr>\n",
       "    <tr>\n",
       "      <th>freq</th>\n",
       "      <td>NaN</td>\n",
       "      <td>415</td>\n",
       "      <td>335</td>\n",
       "      <td>299.0</td>\n",
       "      <td>408</td>\n",
       "      <td>427</td>\n",
       "      <td>NaN</td>\n",
       "      <td>NaN</td>\n",
       "      <td>NaN</td>\n",
       "      <td>NaN</td>\n",
       "      <td>NaN</td>\n",
       "      <td>197</td>\n",
       "      <td>358</td>\n",
       "    </tr>\n",
       "    <tr>\n",
       "      <th>mean</th>\n",
       "      <td>547517.817658</td>\n",
       "      <td>NaN</td>\n",
       "      <td>NaN</td>\n",
       "      <td>NaN</td>\n",
       "      <td>NaN</td>\n",
       "      <td>NaN</td>\n",
       "      <td>1.229406e+06</td>\n",
       "      <td>3.495994e+05</td>\n",
       "      <td>2.797044e+05</td>\n",
       "      <td>343.266272</td>\n",
       "      <td>0.847280</td>\n",
       "      <td>NaN</td>\n",
       "      <td>NaN</td>\n",
       "    </tr>\n",
       "    <tr>\n",
       "      <th>std</th>\n",
       "      <td>261344.261339</td>\n",
       "      <td>NaN</td>\n",
       "      <td>NaN</td>\n",
       "      <td>NaN</td>\n",
       "      <td>NaN</td>\n",
       "      <td>NaN</td>\n",
       "      <td>1.449755e+06</td>\n",
       "      <td>4.824296e+05</td>\n",
       "      <td>1.712505e+05</td>\n",
       "      <td>63.607974</td>\n",
       "      <td>0.360094</td>\n",
       "      <td>NaN</td>\n",
       "      <td>NaN</td>\n",
       "    </tr>\n",
       "    <tr>\n",
       "      <th>min</th>\n",
       "      <td>101559.000000</td>\n",
       "      <td>NaN</td>\n",
       "      <td>NaN</td>\n",
       "      <td>NaN</td>\n",
       "      <td>NaN</td>\n",
       "      <td>NaN</td>\n",
       "      <td>3.375000e+04</td>\n",
       "      <td>0.000000e+00</td>\n",
       "      <td>0.000000e+00</td>\n",
       "      <td>12.000000</td>\n",
       "      <td>0.000000</td>\n",
       "      <td>NaN</td>\n",
       "      <td>NaN</td>\n",
       "    </tr>\n",
       "    <tr>\n",
       "      <th>25%</th>\n",
       "      <td>314492.000000</td>\n",
       "      <td>NaN</td>\n",
       "      <td>NaN</td>\n",
       "      <td>NaN</td>\n",
       "      <td>NaN</td>\n",
       "      <td>NaN</td>\n",
       "      <td>6.468750e+05</td>\n",
       "      <td>0.000000e+00</td>\n",
       "      <td>1.960000e+05</td>\n",
       "      <td>360.000000</td>\n",
       "      <td>1.000000</td>\n",
       "      <td>NaN</td>\n",
       "      <td>NaN</td>\n",
       "    </tr>\n",
       "    <tr>\n",
       "      <th>50%</th>\n",
       "      <td>543412.000000</td>\n",
       "      <td>NaN</td>\n",
       "      <td>NaN</td>\n",
       "      <td>NaN</td>\n",
       "      <td>NaN</td>\n",
       "      <td>NaN</td>\n",
       "      <td>8.581500e+05</td>\n",
       "      <td>2.812500e+05</td>\n",
       "      <td>2.500000e+05</td>\n",
       "      <td>360.000000</td>\n",
       "      <td>1.000000</td>\n",
       "      <td>NaN</td>\n",
       "      <td>NaN</td>\n",
       "    </tr>\n",
       "    <tr>\n",
       "      <th>75%</th>\n",
       "      <td>783776.000000</td>\n",
       "      <td>NaN</td>\n",
       "      <td>NaN</td>\n",
       "      <td>NaN</td>\n",
       "      <td>NaN</td>\n",
       "      <td>NaN</td>\n",
       "      <td>1.292850e+06</td>\n",
       "      <td>5.179500e+05</td>\n",
       "      <td>3.200000e+05</td>\n",
       "      <td>360.000000</td>\n",
       "      <td>1.000000</td>\n",
       "      <td>NaN</td>\n",
       "      <td>NaN</td>\n",
       "    </tr>\n",
       "    <tr>\n",
       "      <th>max</th>\n",
       "      <td>998791.000000</td>\n",
       "      <td>NaN</td>\n",
       "      <td>NaN</td>\n",
       "      <td>NaN</td>\n",
       "      <td>NaN</td>\n",
       "      <td>NaN</td>\n",
       "      <td>1.822500e+07</td>\n",
       "      <td>4.500000e+06</td>\n",
       "      <td>1.400000e+06</td>\n",
       "      <td>480.000000</td>\n",
       "      <td>1.000000</td>\n",
       "      <td>NaN</td>\n",
       "      <td>NaN</td>\n",
       "    </tr>\n",
       "  </tbody>\n",
       "</table>\n",
       "</div>"
      ],
      "text/plain": [
       "              Loan_ID Gender Married  Dependents Education Self_Employed  \\\n",
       "count      521.000000    511     518       508.0       521           494   \n",
       "unique            NaN      2       2         4.0         2             2   \n",
       "top               NaN   Male     Yes         0.0  Graduate            No   \n",
       "freq              NaN    415     335       299.0       408           427   \n",
       "mean    547517.817658    NaN     NaN         NaN       NaN           NaN   \n",
       "std     261344.261339    NaN     NaN         NaN       NaN           NaN   \n",
       "min     101559.000000    NaN     NaN         NaN       NaN           NaN   \n",
       "25%     314492.000000    NaN     NaN         NaN       NaN           NaN   \n",
       "50%     543412.000000    NaN     NaN         NaN       NaN           NaN   \n",
       "75%     783776.000000    NaN     NaN         NaN       NaN           NaN   \n",
       "max     998791.000000    NaN     NaN         NaN       NaN           NaN   \n",
       "\n",
       "        ApplicantIncome  CoapplicantIncome    LoanAmount  Loan_Amount_Term  \\\n",
       "count      5.210000e+02       5.210000e+02  5.210000e+02        507.000000   \n",
       "unique              NaN                NaN           NaN               NaN   \n",
       "top                 NaN                NaN           NaN               NaN   \n",
       "freq                NaN                NaN           NaN               NaN   \n",
       "mean       1.229406e+06       3.495994e+05  2.797044e+05        343.266272   \n",
       "std        1.449755e+06       4.824296e+05  1.712505e+05         63.607974   \n",
       "min        3.375000e+04       0.000000e+00  0.000000e+00         12.000000   \n",
       "25%        6.468750e+05       0.000000e+00  1.960000e+05        360.000000   \n",
       "50%        8.581500e+05       2.812500e+05  2.500000e+05        360.000000   \n",
       "75%        1.292850e+06       5.179500e+05  3.200000e+05        360.000000   \n",
       "max        1.822500e+07       4.500000e+06  1.400000e+06        480.000000   \n",
       "\n",
       "        Credit_History Property_Area Loan_Status  \n",
       "count       478.000000           521         521  \n",
       "unique             NaN             3           2  \n",
       "top                NaN     Semiurban           Y  \n",
       "freq               NaN           197         358  \n",
       "mean          0.847280           NaN         NaN  \n",
       "std           0.360094           NaN         NaN  \n",
       "min           0.000000           NaN         NaN  \n",
       "25%           1.000000           NaN         NaN  \n",
       "50%           1.000000           NaN         NaN  \n",
       "75%           1.000000           NaN         NaN  \n",
       "max           1.000000           NaN         NaN  "
      ]
     },
     "execution_count": 8,
     "metadata": {},
     "output_type": "execute_result"
    }
   ],
   "source": [
    "train.describe(include=\"all\")"
   ]
  },
  {
   "cell_type": "markdown",
   "id": "6f4cadfd",
   "metadata": {},
   "source": [
    "# Observations\n",
    "\n",
    "1. Gender,Married,Education,Self_Employed,ApplicantIncome,Loan_Status have 2 unique elements.\n",
    "2. Property_Area has 3 unique elements,Dependents has 4 unique elements.\n",
    "3. Minimum value in coapplicantIncome and LoanAmount is zero\n",
    "4. 25% value in coapplicantincome is zero\n",
    "5. Loan amount term maximum is 480 and minimum is 12\n",
    "6. Loan amount,Applicant Income and coapplicant income would have outliers as maximum is  too higher than 75%\n",
    "7. Credit history values are between 0 and 1.\n",
    "8. Loan amount,applicantincome and coapplicant income may have ouliers."
   ]
  },
  {
   "cell_type": "markdown",
   "id": "9013781f",
   "metadata": {},
   "source": [
    "# Observations from Milestone 1:\n",
    "\n",
    "1. 'Loan_ID', 'Gender', 'Married','Education' have lesser impact on target variable 'Loan_Status'\n",
    "2. 'Dependents','Self_Employed', 'ApplicantIncome', 'CoapplicantIncome', 'LoanAmount',Loan_Amount_Term', 'Credit_History', 'Property_Area' have higher impact on target variable.\n",
    "\n"
   ]
  },
  {
   "cell_type": "markdown",
   "id": "3bd1a979",
   "metadata": {},
   "source": [
    "# Concepts which can be used for significance analysis\n",
    "\n",
    "1. T-test - If population sd is not given and number of samples less than 30\n",
    "2. Z-test - if population sd is given and number of samples greater than 30\n",
    "3. ANOVA - if morethan 2 categorical variables are there to consider.\n",
    "4. Chisquare - if 2 categorical variables are there\n"
   ]
  },
  {
   "cell_type": "code",
   "execution_count": 9,
   "id": "bd45b145",
   "metadata": {},
   "outputs": [
    {
     "data": {
      "text/plain": [
       "Index(['Loan_ID', 'Gender', 'Married', 'Dependents', 'Education',\n",
       "       'Self_Employed', 'ApplicantIncome', 'CoapplicantIncome', 'LoanAmount',\n",
       "       'Loan_Amount_Term', 'Credit_History', 'Property_Area', 'Loan_Status'],\n",
       "      dtype='object')"
      ]
     },
     "execution_count": 9,
     "metadata": {},
     "output_type": "execute_result"
    }
   ],
   "source": [
    "train.columns"
   ]
  },
  {
   "cell_type": "code",
   "execution_count": 10,
   "id": "263cdd9b",
   "metadata": {},
   "outputs": [
    {
     "data": {
      "text/plain": [
       "360.0    432\n",
       "180.0     36\n",
       "480.0     14\n",
       "300.0     13\n",
       "120.0      3\n",
       "240.0      3\n",
       "60.0       2\n",
       "84.0       2\n",
       "36.0       1\n",
       "12.0       1\n",
       "Name: Loan_Amount_Term, dtype: int64"
      ]
     },
     "execution_count": 10,
     "metadata": {},
     "output_type": "execute_result"
    }
   ],
   "source": [
    "train.Loan_Amount_Term.value_counts()"
   ]
  },
  {
   "cell_type": "markdown",
   "id": "49c00cdc",
   "metadata": {},
   "source": [
    "# To check whether gender affect loan status"
   ]
  },
  {
   "cell_type": "code",
   "execution_count": 11,
   "id": "23d8a903",
   "metadata": {},
   "outputs": [
    {
     "data": {
      "text/plain": [
       "Loan_Status  Gender\n",
       "N            Male      0.798742\n",
       "             Female    0.201258\n",
       "Y            Male      0.818182\n",
       "             Female    0.181818\n",
       "Name: Gender, dtype: float64"
      ]
     },
     "execution_count": 11,
     "metadata": {},
     "output_type": "execute_result"
    }
   ],
   "source": [
    "\n",
    "\n",
    "train.groupby(\"Loan_Status\")[\"Gender\"].value_counts(normalize=True)"
   ]
  },
  {
   "cell_type": "code",
   "execution_count": 12,
   "id": "36c61e92",
   "metadata": {},
   "outputs": [
    {
     "data": {
      "text/plain": [
       "<AxesSubplot:xlabel='Loan_Status,Gender'>"
      ]
     },
     "execution_count": 12,
     "metadata": {},
     "output_type": "execute_result"
    },
    {
     "data": {
      "image/png": "[encoded data removed]",
      "text/plain": [
       "<Figure size 432x288 with 1 Axes>"
      ]
     },
     "metadata": {
      "needs_background": "light"
     },
     "output_type": "display_data"
    }
   ],
   "source": [
    "# To plot it\n",
    "\n",
    "train.groupby(\"Loan_Status\")[\"Gender\"].value_counts().plot(kind=\"bar\")\n",
    "\n"
   ]
  },
  {
   "cell_type": "markdown",
   "id": "7c2e9967",
   "metadata": {},
   "source": [
    "## Observation\n",
    "    As both Gender and Loan_status are categorical ,we can use chisquare test for further analysis\n",
    " "
   ]
  },
  {
   "cell_type": "code",
   "execution_count": 13,
   "id": "0b635824",
   "metadata": {},
   "outputs": [
    {
     "name": "stdout",
     "output_type": "stream",
     "text": [
      "Loan_Status    N    Y\n",
      "Gender               \n",
      "Female        32   64\n",
      "Male         127  288\n"
     ]
    }
   ],
   "source": [
    "contingency_table = pd.crosstab(train['Gender'], train['Loan_Status'])\n",
    "print(contingency_table)"
   ]
  },
  {
   "cell_type": "code",
   "execution_count": 14,
   "id": "f5b1103f",
   "metadata": {},
   "outputs": [
    {
     "name": "stdout",
     "output_type": "stream",
     "text": [
      "p-value =  0.6902367665572007\n",
      "Degrees of freedom =  1\n",
      "Chi-square statistic =  0.15882917019977388\n",
      "Expected frequencies:\n",
      " [[ 29.87084149  66.12915851]\n",
      " [129.12915851 285.87084149]]\n",
      "Fail to reject null hypothesis\n"
     ]
    }
   ],
   "source": [
    "### Chisquare Test\n",
    "####Null hypothesis is the gender and Loan status are independent and Alternate hypothesis is gender and Loan status are dependent.\n",
    "\n",
    "from scipy.stats import chi2_contingency\n",
    "contingency_table = pd.crosstab(train['Gender'], train['Loan_Status'])\n",
    "chi,Pval,dof,exp = chi2_contingency(contingency_table)\n",
    "significance=0.05\n",
    "print('p-value = ', Pval)\n",
    "print('Degrees of freedom = ', dof)\n",
    "print('Chi-square statistic = ', chi)\n",
    "print('Expected frequencies:\\n', exp)\n",
    "if Pval <significance:\n",
    "    print(\"Reject null hypothesis\")\n",
    "else:\n",
    "    print(\"Fail to reject null hypothesis\")"
   ]
  },
  {
   "cell_type": "markdown",
   "id": "c43cd058",
   "metadata": {},
   "source": [
    "## Observation\n",
    "\n",
    "\n",
    "1. Here significance value is taken as 0.05, and P-value we got is 0.69 which is greater than significance value,hence gender and loan status are independent features.\n"
   ]
  },
  {
   "cell_type": "markdown",
   "id": "bad2e49e",
   "metadata": {},
   "source": [
    "## To check whether Married affect loan status"
   ]
  },
  {
   "cell_type": "code",
   "execution_count": 15,
   "id": "76948f75",
   "metadata": {},
   "outputs": [
    {
     "data": {
      "text/plain": [
       "Loan_Status  Married\n",
       "N            Yes        0.582822\n",
       "             No         0.417178\n",
       "Y            Yes        0.676056\n",
       "             No         0.323944\n",
       "Name: Married, dtype: float64"
      ]
     },
     "execution_count": 15,
     "metadata": {},
     "output_type": "execute_result"
    }
   ],
   "source": [
    "\n",
    "\n",
    "train.groupby(\"Loan_Status\")[\"Married\"].value_counts(normalize=True)"
   ]
  },
  {
   "cell_type": "code",
   "execution_count": 16,
   "id": "fd7e2447",
   "metadata": {},
   "outputs": [
    {
     "data": {
      "text/plain": [
       "<AxesSubplot:xlabel='Loan_Status,Married'>"
      ]
     },
     "execution_count": 16,
     "metadata": {},
     "output_type": "execute_result"
    },
    {
     "data": {
      "image/png": "[encoded data removed]",
      "text/plain": [
       "<Figure size 432x288 with 1 Axes>"
      ]
     },
     "metadata": {
      "needs_background": "light"
     },
     "output_type": "display_data"
    }
   ],
   "source": [
    "# To plot it\n",
    "\n",
    "train.groupby(\"Loan_Status\")[\"Married\"].value_counts().plot(kind=\"bar\")\n",
    "\n"
   ]
  },
  {
   "cell_type": "code",
   "execution_count": 17,
   "id": "262ca940",
   "metadata": {},
   "outputs": [
    {
     "name": "stdout",
     "output_type": "stream",
     "text": [
      "Loan_Status   N    Y\n",
      "Married             \n",
      "No           68  115\n",
      "Yes          95  240\n"
     ]
    }
   ],
   "source": [
    "contingency_table = pd.crosstab(train['Married'], train['Loan_Status'])\n",
    "print(contingency_table)"
   ]
  },
  {
   "cell_type": "code",
   "execution_count": 18,
   "id": "8efa92fb",
   "metadata": {},
   "outputs": [
    {
     "name": "stdout",
     "output_type": "stream",
     "text": [
      "p-value =  0.04969152864604629\n",
      "Degrees of freedom =  1\n",
      "Chi-square statistic =  3.851837310804866\n",
      "Expected frequencies:\n",
      " [[ 57.58494208 125.41505792]\n",
      " [105.41505792 229.58494208]]\n",
      "Reject null hypothesis\n"
     ]
    }
   ],
   "source": [
    "### Chisquare Test\n",
    "####Null hypothesis is the gender and Loan status are independent and Alternate hypothesis is gender and Loan status are dependent.\n",
    "\n",
    "from scipy.stats import chi2_contingency\n",
    "contingency_table = pd.crosstab(train['Married'], train['Loan_Status'])\n",
    "chi,Pval,dof,exp = chi2_contingency(contingency_table)\n",
    "significance=0.05\n",
    "print('p-value = ', Pval)\n",
    "print('Degrees of freedom = ', dof)\n",
    "print('Chi-square statistic = ', chi)\n",
    "print('Expected frequencies:\\n', exp)\n",
    "if Pval <significance:\n",
    "    print(\"Reject null hypothesis\")\n",
    "else:\n",
    "    print(\"Fail to reject null hypothesis\")"
   ]
  },
  {
   "cell_type": "markdown",
   "id": "26acdaf2",
   "metadata": {},
   "source": [
    "## Observation\n",
    "\n",
    "\n",
    "1. Here significance value is taken as 0.05, and P-value we got is 0.049 which is less than significance value,hence Married and loan status are dependent features.\n"
   ]
  },
  {
   "cell_type": "markdown",
   "id": "a1609d53",
   "metadata": {},
   "source": [
    "## To check whether Education affect loan status"
   ]
  },
  {
   "cell_type": "code",
   "execution_count": 19,
   "id": "ebbd2d63",
   "metadata": {},
   "outputs": [
    {
     "data": {
      "text/plain": [
       "Loan_Status  Education   \n",
       "N            Graduate        0.717791\n",
       "             Not Graduate    0.282209\n",
       "Y            Graduate        0.812849\n",
       "             Not Graduate    0.187151\n",
       "Name: Education, dtype: float64"
      ]
     },
     "execution_count": 19,
     "metadata": {},
     "output_type": "execute_result"
    }
   ],
   "source": [
    "\n",
    "\n",
    "train.groupby(\"Loan_Status\")[\"Education\"].value_counts(normalize=True)"
   ]
  },
  {
   "cell_type": "code",
   "execution_count": 20,
   "id": "288cf5f3",
   "metadata": {},
   "outputs": [
    {
     "data": {
      "text/plain": [
       "<AxesSubplot:xlabel='Loan_Status,Education'>"
      ]
     },
     "execution_count": 20,
     "metadata": {},
     "output_type": "execute_result"
    },
    {
     "data": {
      "image/png": "[encoded data removed]",
      "text/plain": [
       "<Figure size 432x288 with 1 Axes>"
      ]
     },
     "metadata": {
      "needs_background": "light"
     },
     "output_type": "display_data"
    }
   ],
   "source": [
    "# To plot it\n",
    "\n",
    "train.groupby(\"Loan_Status\")[\"Education\"].value_counts().plot(kind=\"bar\")"
   ]
  },
  {
   "cell_type": "code",
   "execution_count": 21,
   "id": "4419d51c",
   "metadata": {},
   "outputs": [
    {
     "name": "stdout",
     "output_type": "stream",
     "text": [
      "Loan_Status     N    Y\n",
      "Education             \n",
      "Graduate      117  291\n",
      "Not Graduate   46   67\n"
     ]
    }
   ],
   "source": [
    "contingency_table = pd.crosstab(train['Education'], train['Loan_Status'])\n",
    "print(contingency_table)"
   ]
  },
  {
   "cell_type": "code",
   "execution_count": 22,
   "id": "00c05d9d",
   "metadata": {},
   "outputs": [
    {
     "name": "stdout",
     "output_type": "stream",
     "text": [
      "p-value =  0.019997766888094164\n",
      "Degrees of freedom =  1\n",
      "Chi-square statistic =  5.412089360791851\n",
      "Expected frequencies:\n",
      " [[127.64683301 280.35316699]\n",
      " [ 35.35316699  77.64683301]]\n",
      "Reject null hypothesis\n"
     ]
    }
   ],
   "source": [
    "### Chisquare Test\n",
    "####Null hypothesis is the gender and Loan status are independent and Alternate hypothesis is gender and Loan status are dependent.\n",
    "\n",
    "from scipy.stats import chi2_contingency\n",
    "contingency_table = pd.crosstab(train['Education'], train['Loan_Status'])\n",
    "chi,Pval,dof,exp = chi2_contingency(contingency_table)\n",
    "significance=0.05\n",
    "print('p-value = ', Pval)\n",
    "print('Degrees of freedom = ', dof)\n",
    "print('Chi-square statistic = ', chi)\n",
    "print('Expected frequencies:\\n', exp)\n",
    "if Pval <significance:\n",
    "    print(\"Reject null hypothesis\")\n",
    "else:\n",
    "    print(\"Fail to reject null hypothesis\")"
   ]
  },
  {
   "cell_type": "markdown",
   "id": "90e21a96",
   "metadata": {},
   "source": [
    "## Observation\n",
    "\n",
    "\n",
    "1. Here significance value is taken as 0.05, and P-value we got is 0.049 which is less than significance value,hence Married and loan status are dependent features.\n"
   ]
  },
  {
   "cell_type": "markdown",
   "id": "124ed801",
   "metadata": {},
   "source": [
    "## To check whether Self_Employed affect loan status"
   ]
  },
  {
   "cell_type": "code",
   "execution_count": 23,
   "id": "3ab9827a",
   "metadata": {},
   "outputs": [
    {
     "data": {
      "text/plain": [
       "Loan_Status  Self_Employed\n",
       "N            No               0.864516\n",
       "             Yes              0.135484\n",
       "Y            No               0.864307\n",
       "             Yes              0.135693\n",
       "Name: Self_Employed, dtype: float64"
      ]
     },
     "execution_count": 23,
     "metadata": {},
     "output_type": "execute_result"
    }
   ],
   "source": [
    "\n",
    "\n",
    "train.groupby(\"Loan_Status\")[\"Self_Employed\"].value_counts(normalize=True)"
   ]
  },
  {
   "cell_type": "code",
   "execution_count": 24,
   "id": "62c0d4d1",
   "metadata": {},
   "outputs": [
    {
     "data": {
      "text/plain": [
       "<AxesSubplot:xlabel='Loan_Status,Self_Employed'>"
      ]
     },
     "execution_count": 24,
     "metadata": {},
     "output_type": "execute_result"
    },
    {
     "data": {
      "image/png": "[encoded data removed]",
      "text/plain": [
       "<Figure size 432x288 with 1 Axes>"
      ]
     },
     "metadata": {
      "needs_background": "light"
     },
     "output_type": "display_data"
    }
   ],
   "source": [
    "# To plot it\n",
    "\n",
    "train.groupby(\"Loan_Status\")[\"Self_Employed\"].value_counts().plot(kind=\"bar\")"
   ]
  },
  {
   "cell_type": "code",
   "execution_count": 25,
   "id": "d1bd5ad9",
   "metadata": {},
   "outputs": [
    {
     "name": "stdout",
     "output_type": "stream",
     "text": [
      "Loan_Status      N    Y\n",
      "Self_Employed          \n",
      "No             134  293\n",
      "Yes             21   46\n"
     ]
    }
   ],
   "source": [
    "contingency_table = pd.crosstab(train['Self_Employed'], train['Loan_Status'])\n",
    "print(contingency_table)"
   ]
  },
  {
   "cell_type": "code",
   "execution_count": 26,
   "id": "49254196",
   "metadata": {},
   "outputs": [
    {
     "name": "stdout",
     "output_type": "stream",
     "text": [
      "p-value =  1.0\n",
      "Degrees of freedom =  1\n",
      "Chi-square statistic =  0.0\n",
      "Expected frequencies:\n",
      " [[133.97773279 293.02226721]\n",
      " [ 21.02226721  45.97773279]]\n",
      "Fail to reject null hypothesis\n"
     ]
    }
   ],
   "source": [
    "### Chisquare Test\n",
    "####Null hypothesis is the gender and Loan status are independent and Alternate hypothesis is gender and Loan status are dependent.\n",
    "\n",
    "from scipy.stats import chi2_contingency\n",
    "contingency_table = pd.crosstab(train['Self_Employed'], train['Loan_Status'])\n",
    "chi,Pval,dof,exp = chi2_contingency(contingency_table)\n",
    "significance=0.05\n",
    "print('p-value = ', Pval)\n",
    "print('Degrees of freedom = ', dof)\n",
    "print('Chi-square statistic = ', chi)\n",
    "print('Expected frequencies:\\n', exp)\n",
    "if Pval <significance:\n",
    "    print(\"Reject null hypothesis\")\n",
    "else:\n",
    "    print(\"Fail to reject null hypothesis\")"
   ]
  },
  {
   "cell_type": "markdown",
   "id": "206ef227",
   "metadata": {},
   "source": [
    "## Observation\n",
    "\n",
    "\n",
    "1. Here significance value is taken as 0.05, and P-value we got is 0.049 which is less than significance value,hence Married and loan status are dependent features.\n"
   ]
  },
  {
   "cell_type": "markdown",
   "id": "a89d05f5",
   "metadata": {},
   "source": [
    "## To check whether Property_Area affect loan status"
   ]
  },
  {
   "cell_type": "code",
   "execution_count": 27,
   "id": "73ead6f0",
   "metadata": {},
   "outputs": [
    {
     "data": {
      "text/plain": [
       "<AxesSubplot:ylabel='Density'>"
      ]
     },
     "execution_count": 27,
     "metadata": {},
     "output_type": "execute_result"
    },
    {
     "data": {
      "image/png": "[encoded data removed]",
      "text/plain": [
       "<Figure size 432x288 with 1 Axes>"
      ]
     },
     "metadata": {
      "needs_background": "light"
     },
     "output_type": "display_data"
    }
   ],
   "source": [
    "train.groupby(\"Loan_Status\")[\"Property_Area\"].value_counts(normalize=True).plot(kind=\"kde\")"
   ]
  },
  {
   "cell_type": "code",
   "execution_count": 28,
   "id": "d3c4b40b",
   "metadata": {},
   "outputs": [
    {
     "data": {
      "text/plain": [
       "Semiurban    197\n",
       "Urban        176\n",
       "Rural        148\n",
       "Name: Property_Area, dtype: int64"
      ]
     },
     "execution_count": 28,
     "metadata": {},
     "output_type": "execute_result"
    }
   ],
   "source": [
    "train.Property_Area.value_counts()"
   ]
  },
  {
   "cell_type": "code",
   "execution_count": 29,
   "id": "46bab41c",
   "metadata": {},
   "outputs": [
    {
     "data": {
      "text/html": [
       "<div>\n",
       "<style scoped>\n",
       "    .dataframe tbody tr th:only-of-type {\n",
       "        vertical-align: middle;\n",
       "    }\n",
       "\n",
       "    .dataframe tbody tr th {\n",
       "        vertical-align: top;\n",
       "    }\n",
       "\n",
       "    .dataframe thead th {\n",
       "        text-align: right;\n",
       "    }\n",
       "</style>\n",
       "<table border=\"1\" class=\"dataframe\">\n",
       "  <thead>\n",
       "    <tr style=\"text-align: right;\">\n",
       "      <th></th>\n",
       "      <th>count</th>\n",
       "      <th>unique</th>\n",
       "      <th>top</th>\n",
       "      <th>freq</th>\n",
       "    </tr>\n",
       "    <tr>\n",
       "      <th>Loan_Status</th>\n",
       "      <th></th>\n",
       "      <th></th>\n",
       "      <th></th>\n",
       "      <th></th>\n",
       "    </tr>\n",
       "  </thead>\n",
       "  <tbody>\n",
       "    <tr>\n",
       "      <th>N</th>\n",
       "      <td>163</td>\n",
       "      <td>3</td>\n",
       "      <td>Urban</td>\n",
       "      <td>61</td>\n",
       "    </tr>\n",
       "    <tr>\n",
       "      <th>Y</th>\n",
       "      <td>358</td>\n",
       "      <td>3</td>\n",
       "      <td>Semiurban</td>\n",
       "      <td>155</td>\n",
       "    </tr>\n",
       "  </tbody>\n",
       "</table>\n",
       "</div>"
      ],
      "text/plain": [
       "            count unique        top freq\n",
       "Loan_Status                             \n",
       "N             163      3      Urban   61\n",
       "Y             358      3  Semiurban  155"
      ]
     },
     "execution_count": 29,
     "metadata": {},
     "output_type": "execute_result"
    }
   ],
   "source": [
    "group1=train[train[\"Property_Area\"]==\"Semiurban\"]\n",
    "group2=train[train[\"Property_Area\"]==\"Urban\"]\n",
    "group3=train[train[\"Property_Area\"]==\"Rural\"]\n",
    "\n",
    "train.groupby(\"Loan_Status\")[\"Property_Area\"].describe()"
   ]
  },
  {
   "cell_type": "code",
   "execution_count": null,
   "id": "e8ac1201",
   "metadata": {},
   "outputs": [],
   "source": []
  },
  {
   "cell_type": "code",
   "execution_count": null,
   "id": "021998f0",
   "metadata": {},
   "outputs": [],
   "source": []
  },
  {
   "cell_type": "code",
   "execution_count": null,
   "id": "87f6b339",
   "metadata": {},
   "outputs": [],
   "source": []
  },
  {
   "cell_type": "code",
   "execution_count": null,
   "id": "695e4515",
   "metadata": {},
   "outputs": [],
   "source": []
  },
  {
   "cell_type": "code",
   "execution_count": null,
   "id": "16cdf575",
   "metadata": {},
   "outputs": [],
   "source": []
  },
  {
   "cell_type": "code",
   "execution_count": null,
   "id": "80da85cf",
   "metadata": {},
   "outputs": [],
   "source": []
  },
  {
   "cell_type": "code",
   "execution_count": null,
   "id": "b30695bf",
   "metadata": {},
   "outputs": [],
   "source": []
  },
  {
   "cell_type": "code",
   "execution_count": null,
   "id": "aceee97f",
   "metadata": {},
   "outputs": [],
   "source": []
  },
  {
   "cell_type": "code",
   "execution_count": null,
   "id": "5b5e3e51",
   "metadata": {},
   "outputs": [],
   "source": []
  },
  {
   "cell_type": "markdown",
   "id": "eae88d58",
   "metadata": {},
   "source": [
    "### Applicant income vs Loan Status"
   ]
  },
  {
   "cell_type": "code",
   "execution_count": 30,
   "id": "ceddb49c",
   "metadata": {},
   "outputs": [
    {
     "data": {
      "text/plain": [
       "Loan_Status\n",
       "N    1.277224e+06\n",
       "Y    1.207635e+06\n",
       "Name: ApplicantIncome, dtype: float64"
      ]
     },
     "execution_count": 30,
     "metadata": {},
     "output_type": "execute_result"
    }
   ],
   "source": [
    "## Applicant income vs Loan Status\n",
    "\n",
    "train.groupby(\"Loan_Status\")[\"ApplicantIncome\"].mean()"
   ]
  },
  {
   "cell_type": "markdown",
   "id": "74121309",
   "metadata": {},
   "source": [
    "## Observation\n",
    "1. both loan rejection and loan approval have somewhat same mean\n",
    "2. rejection mean is greater than approval mean\n",
    "3. As the mean value are close to each other null hypothesis would hold"
   ]
  },
  {
   "cell_type": "code",
   "execution_count": 31,
   "id": "8aaad9f6",
   "metadata": {},
   "outputs": [
    {
     "data": {
      "text/plain": [
       "<function matplotlib.pyplot.legend(*args, **kwargs)>"
      ]
     },
     "execution_count": 31,
     "metadata": {},
     "output_type": "execute_result"
    },
    {
     "data": {
      "image/png": "[encoded data removed]",
      "text/plain": [
       "<Figure size 432x288 with 1 Axes>"
      ]
     },
     "metadata": {
      "needs_background": "light"
     },
     "output_type": "display_data"
    }
   ],
   "source": [
    "## Applicant income vs Loan Status\n",
    "\n",
    "train.groupby(\"Loan_Status\")[\"ApplicantIncome\"].mean().plot(kind=\"bar\")\n",
    "plt.legend"
   ]
  },
  {
   "cell_type": "code",
   "execution_count": 32,
   "id": "ade31053",
   "metadata": {},
   "outputs": [
    {
     "name": "stderr",
     "output_type": "stream",
     "text": [
      "E:\\New folder (3)\\lib\\site-packages\\seaborn\\distributions.py:2619: FutureWarning: `distplot` is a deprecated function and will be removed in a future version. Please adapt your code to use either `displot` (a figure-level function with similar flexibility) or `histplot` (an axes-level function for histograms).\n",
      "  warnings.warn(msg, FutureWarning)\n"
     ]
    },
    {
     "data": {
      "text/plain": [
       "<AxesSubplot:xlabel='ApplicantIncome', ylabel='Density'>"
      ]
     },
     "execution_count": 32,
     "metadata": {},
     "output_type": "execute_result"
    },
    {
     "data": {
      "image/png": "[encoded data removed]",
      "text/plain": [
       "<Figure size 432x288 with 1 Axes>"
      ]
     },
     "metadata": {
      "needs_background": "light"
     },
     "output_type": "display_data"
    }
   ],
   "source": [
    "sbn.distplot(train[\"ApplicantIncome\"])"
   ]
  },
  {
   "cell_type": "code",
   "execution_count": 33,
   "id": "99783153",
   "metadata": {},
   "outputs": [
    {
     "data": {
      "text/plain": [
       "<matplotlib.legend.Legend at 0x1bd9dff6370>"
      ]
     },
     "execution_count": 33,
     "metadata": {},
     "output_type": "execute_result"
    },
    {
     "data": {
      "image/png": "[encoded data removed]",
      "text/plain": [
       "<Figure size 432x288 with 1 Axes>"
      ]
     },
     "metadata": {
      "needs_background": "light"
     },
     "output_type": "display_data"
    }
   ],
   "source": [
    "train.groupby(\"Loan_Status\")[\"ApplicantIncome\"].plot(kind=\"kde\")\n",
    "plt.legend()"
   ]
  },
  {
   "cell_type": "markdown",
   "id": "bbed662b",
   "metadata": {},
   "source": [
    "### Observation\n",
    "\n",
    "Applicant income is not a deciding factor as both are completely overlapping and they are counter intuitive"
   ]
  },
  {
   "cell_type": "markdown",
   "id": "fedff935",
   "metadata": {},
   "source": [
    "## CoApplicant income vs Loan Status"
   ]
  },
  {
   "cell_type": "code",
   "execution_count": 34,
   "id": "2c181eda",
   "metadata": {},
   "outputs": [
    {
     "data": {
      "text/plain": [
       "Index(['Loan_ID', 'Gender', 'Married', 'Dependents', 'Education',\n",
       "       'Self_Employed', 'ApplicantIncome', 'CoapplicantIncome', 'LoanAmount',\n",
       "       'Loan_Amount_Term', 'Credit_History', 'Property_Area', 'Loan_Status'],\n",
       "      dtype='object')"
      ]
     },
     "execution_count": 34,
     "metadata": {},
     "output_type": "execute_result"
    }
   ],
   "source": [
    "train.columns"
   ]
  },
  {
   "cell_type": "code",
   "execution_count": 35,
   "id": "ee2db46a",
   "metadata": {},
   "outputs": [
    {
     "data": {
      "text/plain": [
       "Loan_Status\n",
       "N    353713.803681\n",
       "Y    347726.136864\n",
       "Name: CoapplicantIncome, dtype: float64"
      ]
     },
     "execution_count": 35,
     "metadata": {},
     "output_type": "execute_result"
    }
   ],
   "source": [
    "train.groupby(\"Loan_Status\")[\"CoapplicantIncome\"].mean()"
   ]
  },
  {
   "cell_type": "markdown",
   "id": "e778013d",
   "metadata": {},
   "source": [
    "## Observation\n",
    "1. both loan rejection and loan approval have somewhat same mean\n",
    "2. rejection mean is greater than approval mean\n",
    "3. As the mean value are close to each other null hypothesis would hold"
   ]
  },
  {
   "cell_type": "code",
   "execution_count": 36,
   "id": "1e32b57f",
   "metadata": {},
   "outputs": [
    {
     "data": {
      "text/plain": [
       "<function matplotlib.pyplot.legend(*args, **kwargs)>"
      ]
     },
     "execution_count": 36,
     "metadata": {},
     "output_type": "execute_result"
    },
    {
     "data": {
      "image/png": "[encoded data removed]",
      "text/plain": [
       "<Figure size 432x288 with 1 Axes>"
      ]
     },
     "metadata": {
      "needs_background": "light"
     },
     "output_type": "display_data"
    }
   ],
   "source": [
    "train.groupby(\"Loan_Status\")[\"CoapplicantIncome\"].mean().plot(kind=\"bar\")\n",
    "plt.legend"
   ]
  },
  {
   "cell_type": "code",
   "execution_count": 37,
   "id": "1308c426",
   "metadata": {},
   "outputs": [
    {
     "data": {
      "text/plain": [
       "<matplotlib.legend.Legend at 0x1bda16414f0>"
      ]
     },
     "execution_count": 37,
     "metadata": {},
     "output_type": "execute_result"
    },
    {
     "data": {
      "image/png": "[encoded data removed]",
      "text/plain": [
       "<Figure size 432x288 with 1 Axes>"
      ]
     },
     "metadata": {
      "needs_background": "light"
     },
     "output_type": "display_data"
    }
   ],
   "source": [
    "train.groupby(\"Loan_Status\")[\"CoapplicantIncome\"].plot(kind=\"kde\")\n",
    "plt.legend()"
   ]
  },
  {
   "cell_type": "markdown",
   "id": "6a3dd914",
   "metadata": {},
   "source": [
    "## Observation\n",
    "CoapplicantIncome is not a deciding factor as both are completely overlapping and they are counter intuitive"
   ]
  },
  {
   "cell_type": "markdown",
   "id": "f07fecb3",
   "metadata": {},
   "source": [
    "## LoanAmount income vs Loan Status"
   ]
  },
  {
   "cell_type": "code",
   "execution_count": 38,
   "id": "e94804e7",
   "metadata": {},
   "outputs": [
    {
     "data": {
      "text/plain": [
       "Loan_Status\n",
       "N    291214.723926\n",
       "Y    274463.687151\n",
       "Name: LoanAmount, dtype: float64"
      ]
     },
     "execution_count": 38,
     "metadata": {},
     "output_type": "execute_result"
    }
   ],
   "source": [
    "train.groupby(\"Loan_Status\")[\"LoanAmount\"].mean()"
   ]
  },
  {
   "cell_type": "code",
   "execution_count": 39,
   "id": "6551ca5e",
   "metadata": {},
   "outputs": [
    {
     "data": {
      "text/plain": [
       "<function matplotlib.pyplot.legend(*args, **kwargs)>"
      ]
     },
     "execution_count": 39,
     "metadata": {},
     "output_type": "execute_result"
    },
    {
     "data": {
      "image/png": "[encoded data removed]",
      "text/plain": [
       "<Figure size 432x288 with 1 Axes>"
      ]
     },
     "metadata": {
      "needs_background": "light"
     },
     "output_type": "display_data"
    }
   ],
   "source": [
    "train.groupby(\"Loan_Status\")[\"LoanAmount\"].mean().plot(kind=\"bar\")\n",
    "plt.legend"
   ]
  },
  {
   "cell_type": "code",
   "execution_count": 40,
   "id": "af55362c",
   "metadata": {},
   "outputs": [
    {
     "data": {
      "text/plain": [
       "<matplotlib.legend.Legend at 0x1bda17b97f0>"
      ]
     },
     "execution_count": 40,
     "metadata": {},
     "output_type": "execute_result"
    },
    {
     "data": {
      "image/png": "[encoded data removed]",
      "text/plain": [
       "<Figure size 432x288 with 1 Axes>"
      ]
     },
     "metadata": {
      "needs_background": "light"
     },
     "output_type": "display_data"
    }
   ],
   "source": [
    "train.groupby(\"Loan_Status\")[\"LoanAmount\"].plot(kind=\"kde\")\n",
    "plt.legend()"
   ]
  },
  {
   "cell_type": "markdown",
   "id": "76ded9a8",
   "metadata": {},
   "source": [
    "## Observation\n",
    "LoanAmount is not a deciding factor as both are completely overlapping and they are counter intuitive"
   ]
  },
  {
   "cell_type": "code",
   "execution_count": 41,
   "id": "07d592fb",
   "metadata": {},
   "outputs": [
    {
     "data": {
      "text/html": [
       "<div>\n",
       "<style scoped>\n",
       "    .dataframe tbody tr th:only-of-type {\n",
       "        vertical-align: middle;\n",
       "    }\n",
       "\n",
       "    .dataframe tbody tr th {\n",
       "        vertical-align: top;\n",
       "    }\n",
       "\n",
       "    .dataframe thead th {\n",
       "        text-align: right;\n",
       "    }\n",
       "</style>\n",
       "<table border=\"1\" class=\"dataframe\">\n",
       "  <thead>\n",
       "    <tr style=\"text-align: right;\">\n",
       "      <th></th>\n",
       "      <th>Loan_ID</th>\n",
       "      <th>Gender</th>\n",
       "      <th>Married</th>\n",
       "      <th>Dependents</th>\n",
       "      <th>Education</th>\n",
       "      <th>Self_Employed</th>\n",
       "      <th>ApplicantIncome</th>\n",
       "      <th>CoapplicantIncome</th>\n",
       "      <th>LoanAmount</th>\n",
       "      <th>Loan_Amount_Term</th>\n",
       "      <th>Credit_History</th>\n",
       "      <th>Property_Area</th>\n",
       "      <th>Loan_Status</th>\n",
       "    </tr>\n",
       "  </thead>\n",
       "  <tbody>\n",
       "    <tr>\n",
       "      <th>0</th>\n",
       "      <td>294853</td>\n",
       "      <td>Male</td>\n",
       "      <td>No</td>\n",
       "      <td>0</td>\n",
       "      <td>Graduate</td>\n",
       "      <td>No</td>\n",
       "      <td>1316025</td>\n",
       "      <td>0.0</td>\n",
       "      <td>250000</td>\n",
       "      <td>360.0</td>\n",
       "      <td>1.0</td>\n",
       "      <td>Urban</td>\n",
       "      <td>Y</td>\n",
       "    </tr>\n",
       "    <tr>\n",
       "      <th>1</th>\n",
       "      <td>162883</td>\n",
       "      <td>Male</td>\n",
       "      <td>Yes</td>\n",
       "      <td>1</td>\n",
       "      <td>Graduate</td>\n",
       "      <td>No</td>\n",
       "      <td>1031175</td>\n",
       "      <td>339300.0</td>\n",
       "      <td>256000</td>\n",
       "      <td>360.0</td>\n",
       "      <td>1.0</td>\n",
       "      <td>Rural</td>\n",
       "      <td>N</td>\n",
       "    </tr>\n",
       "    <tr>\n",
       "      <th>2</th>\n",
       "      <td>620668</td>\n",
       "      <td>Male</td>\n",
       "      <td>Yes</td>\n",
       "      <td>0</td>\n",
       "      <td>Graduate</td>\n",
       "      <td>Yes</td>\n",
       "      <td>675000</td>\n",
       "      <td>0.0</td>\n",
       "      <td>132000</td>\n",
       "      <td>360.0</td>\n",
       "      <td>1.0</td>\n",
       "      <td>Urban</td>\n",
       "      <td>Y</td>\n",
       "    </tr>\n",
       "    <tr>\n",
       "      <th>3</th>\n",
       "      <td>295747</td>\n",
       "      <td>Male</td>\n",
       "      <td>Yes</td>\n",
       "      <td>0</td>\n",
       "      <td>Not Graduate</td>\n",
       "      <td>No</td>\n",
       "      <td>581175</td>\n",
       "      <td>530550.0</td>\n",
       "      <td>240000</td>\n",
       "      <td>360.0</td>\n",
       "      <td>1.0</td>\n",
       "      <td>Urban</td>\n",
       "      <td>Y</td>\n",
       "    </tr>\n",
       "    <tr>\n",
       "      <th>4</th>\n",
       "      <td>133390</td>\n",
       "      <td>Male</td>\n",
       "      <td>No</td>\n",
       "      <td>0</td>\n",
       "      <td>Graduate</td>\n",
       "      <td>No</td>\n",
       "      <td>1350000</td>\n",
       "      <td>0.0</td>\n",
       "      <td>282000</td>\n",
       "      <td>360.0</td>\n",
       "      <td>1.0</td>\n",
       "      <td>Urban</td>\n",
       "      <td>Y</td>\n",
       "    </tr>\n",
       "  </tbody>\n",
       "</table>\n",
       "</div>"
      ],
      "text/plain": [
       "   Loan_ID Gender Married Dependents     Education Self_Employed  \\\n",
       "0   294853   Male      No          0      Graduate            No   \n",
       "1   162883   Male     Yes          1      Graduate            No   \n",
       "2   620668   Male     Yes          0      Graduate           Yes   \n",
       "3   295747   Male     Yes          0  Not Graduate            No   \n",
       "4   133390   Male      No          0      Graduate            No   \n",
       "\n",
       "   ApplicantIncome  CoapplicantIncome  LoanAmount  Loan_Amount_Term  \\\n",
       "0          1316025                0.0      250000             360.0   \n",
       "1          1031175           339300.0      256000             360.0   \n",
       "2           675000                0.0      132000             360.0   \n",
       "3           581175           530550.0      240000             360.0   \n",
       "4          1350000                0.0      282000             360.0   \n",
       "\n",
       "   Credit_History Property_Area Loan_Status  \n",
       "0             1.0         Urban           Y  \n",
       "1             1.0         Rural           N  \n",
       "2             1.0         Urban           Y  \n",
       "3             1.0         Urban           Y  \n",
       "4             1.0         Urban           Y  "
      ]
     },
     "execution_count": 41,
     "metadata": {},
     "output_type": "execute_result"
    }
   ],
   "source": [
    " train.head()"
   ]
  },
  {
   "cell_type": "markdown",
   "id": "da4852d8",
   "metadata": {},
   "source": [
    "## Feature Engineering"
   ]
  },
  {
   "cell_type": "markdown",
   "id": "976ab6b5",
   "metadata": {},
   "source": [
    "### Creating new features"
   ]
  },
  {
   "cell_type": "code",
   "execution_count": 42,
   "id": "84ed7f23",
   "metadata": {},
   "outputs": [],
   "source": [
    "train[\"Family_income\"]=train[\"ApplicantIncome\"]+train[\"CoapplicantIncome\"]"
   ]
  },
  {
   "cell_type": "code",
   "execution_count": 43,
   "id": "0ac40755",
   "metadata": {},
   "outputs": [
    {
     "data": {
      "text/plain": [
       "Index(['Loan_ID', 'Gender', 'Married', 'Dependents', 'Education',\n",
       "       'Self_Employed', 'ApplicantIncome', 'CoapplicantIncome', 'LoanAmount',\n",
       "       'Loan_Amount_Term', 'Credit_History', 'Property_Area', 'Loan_Status',\n",
       "       'Family_income'],\n",
       "      dtype='object')"
      ]
     },
     "execution_count": 43,
     "metadata": {},
     "output_type": "execute_result"
    }
   ],
   "source": [
    "train.columns"
   ]
  },
  {
   "cell_type": "code",
   "execution_count": 44,
   "id": "e78f30d6",
   "metadata": {},
   "outputs": [
    {
     "data": {
      "text/plain": [
       "<AxesSubplot:xlabel='Loan_Status'>"
      ]
     },
     "execution_count": 44,
     "metadata": {},
     "output_type": "execute_result"
    },
    {
     "data": {
      "image/png": "[encoded data removed]",
      "text/plain": [
       "<Figure size 432x288 with 1 Axes>"
      ]
     },
     "metadata": {
      "needs_background": "light"
     },
     "output_type": "display_data"
    }
   ],
   "source": [
    "train.groupby(\"Loan_Status\")[\"Family_income\"].mean().plot(kind=\"bar\")"
   ]
  },
  {
   "cell_type": "code",
   "execution_count": 45,
   "id": "0b900fcd",
   "metadata": {},
   "outputs": [
    {
     "data": {
      "text/plain": [
       "0.44145873320537427"
      ]
     },
     "execution_count": 45,
     "metadata": {},
     "output_type": "execute_result"
    }
   ],
   "source": [
    "train.loc[train['CoapplicantIncome']==0].shape[0]/train.shape[0]"
   ]
  },
  {
   "cell_type": "code",
   "execution_count": 46,
   "id": "afce5942",
   "metadata": {},
   "outputs": [
    {
     "data": {
      "text/plain": [
       "count    5.210000e+02\n",
       "mean     1.579006e+06\n",
       "std      1.474995e+06\n",
       "min      3.244500e+05\n",
       "25%      9.373500e+05\n",
       "50%      1.199925e+06\n",
       "75%      1.696950e+06\n",
       "max      1.822500e+07\n",
       "Name: Family_income, dtype: float64"
      ]
     },
     "execution_count": 46,
     "metadata": {},
     "output_type": "execute_result"
    }
   ],
   "source": [
    "train[\"Family_income\"].describe()"
   ]
  },
  {
   "cell_type": "code",
   "execution_count": 47,
   "id": "3a4c851b",
   "metadata": {},
   "outputs": [],
   "source": [
    "train[\"Loan_by_income\"]=train[\"LoanAmount\"]*10000/train[\"Family_income\"]"
   ]
  },
  {
   "cell_type": "code",
   "execution_count": 48,
   "id": "aab47fcc",
   "metadata": {},
   "outputs": [
    {
     "data": {
      "text/plain": [
       "count     521.000000\n",
       "mean     2030.002145\n",
       "std       818.401952\n",
       "min         0.000000\n",
       "25%      1615.060439\n",
       "50%      2106.104412\n",
       "75%      2472.778363\n",
       "max      7352.146178\n",
       "Name: Loan_by_income, dtype: float64"
      ]
     },
     "execution_count": 48,
     "metadata": {},
     "output_type": "execute_result"
    }
   ],
   "source": [
    "train[\"Loan_by_income\"].describe()"
   ]
  },
  {
   "cell_type": "code",
   "execution_count": 49,
   "id": "d9097beb",
   "metadata": {},
   "outputs": [
    {
     "data": {
      "text/plain": [
       "<AxesSubplot:xlabel='Loan_Status'>"
      ]
     },
     "execution_count": 49,
     "metadata": {},
     "output_type": "execute_result"
    },
    {
     "data": {
      "image/png": "[encoded data removed]",
      "text/plain": [
       "<Figure size 432x288 with 1 Axes>"
      ]
     },
     "metadata": {
      "needs_background": "light"
     },
     "output_type": "display_data"
    }
   ],
   "source": [
    "train.groupby(\"Loan_Status\")[\"Loan_by_income\"].mean().plot(kind=\"bar\")"
   ]
  },
  {
   "cell_type": "code",
   "execution_count": 50,
   "id": "a356351f",
   "metadata": {},
   "outputs": [],
   "source": [
    "## Binning"
   ]
  },
  {
   "cell_type": "code",
   "execution_count": 52,
   "id": "869a705b",
   "metadata": {},
   "outputs": [
    {
     "data": {
      "text/plain": [
       "0    1316025.0\n",
       "1    1370475.0\n",
       "2     675000.0\n",
       "3    1111725.0\n",
       "4    1350000.0\n",
       "5    2162925.0\n",
       "6     866025.0\n",
       "7    1246500.0\n",
       "8    1244700.0\n",
       "9    5357025.0\n",
       "Name: Family_income, dtype: float64"
      ]
     },
     "execution_count": 52,
     "metadata": {},
     "output_type": "execute_result"
    }
   ],
   "source": [
    "train[\"Family_income\"].head(10)"
   ]
  },
  {
   "cell_type": "code",
   "execution_count": 53,
   "id": "ec501f89",
   "metadata": {},
   "outputs": [
    {
     "data": {
      "text/html": [
       "<div>\n",
       "<style scoped>\n",
       "    .dataframe tbody tr th:only-of-type {\n",
       "        vertical-align: middle;\n",
       "    }\n",
       "\n",
       "    .dataframe tbody tr th {\n",
       "        vertical-align: top;\n",
       "    }\n",
       "\n",
       "    .dataframe thead th {\n",
       "        text-align: right;\n",
       "    }\n",
       "</style>\n",
       "<table border=\"1\" class=\"dataframe\">\n",
       "  <thead>\n",
       "    <tr style=\"text-align: right;\">\n",
       "      <th></th>\n",
       "      <th>Family_income</th>\n",
       "      <th>Income_bin</th>\n",
       "    </tr>\n",
       "  </thead>\n",
       "  <tbody>\n",
       "    <tr>\n",
       "      <th>0</th>\n",
       "      <td>1316025.0</td>\n",
       "      <td>Medium</td>\n",
       "    </tr>\n",
       "    <tr>\n",
       "      <th>1</th>\n",
       "      <td>1370475.0</td>\n",
       "      <td>Medium</td>\n",
       "    </tr>\n",
       "    <tr>\n",
       "      <th>2</th>\n",
       "      <td>675000.0</td>\n",
       "      <td>Low</td>\n",
       "    </tr>\n",
       "    <tr>\n",
       "      <th>3</th>\n",
       "      <td>1111725.0</td>\n",
       "      <td>Medium</td>\n",
       "    </tr>\n",
       "    <tr>\n",
       "      <th>4</th>\n",
       "      <td>1350000.0</td>\n",
       "      <td>Medium</td>\n",
       "    </tr>\n",
       "    <tr>\n",
       "      <th>5</th>\n",
       "      <td>2162925.0</td>\n",
       "      <td>High</td>\n",
       "    </tr>\n",
       "    <tr>\n",
       "      <th>6</th>\n",
       "      <td>866025.0</td>\n",
       "      <td>Low</td>\n",
       "    </tr>\n",
       "    <tr>\n",
       "      <th>7</th>\n",
       "      <td>1246500.0</td>\n",
       "      <td>Medium</td>\n",
       "    </tr>\n",
       "    <tr>\n",
       "      <th>8</th>\n",
       "      <td>1244700.0</td>\n",
       "      <td>Medium</td>\n",
       "    </tr>\n",
       "    <tr>\n",
       "      <th>9</th>\n",
       "      <td>5357025.0</td>\n",
       "      <td>Very_High</td>\n",
       "    </tr>\n",
       "  </tbody>\n",
       "</table>\n",
       "</div>"
      ],
      "text/plain": [
       "   Family_income Income_bin\n",
       "0      1316025.0     Medium\n",
       "1      1370475.0     Medium\n",
       "2       675000.0        Low\n",
       "3      1111725.0     Medium\n",
       "4      1350000.0     Medium\n",
       "5      2162925.0       High\n",
       "6       866025.0        Low\n",
       "7      1246500.0     Medium\n",
       "8      1244700.0     Medium\n",
       "9      5357025.0  Very_High"
      ]
     },
     "execution_count": 53,
     "metadata": {},
     "output_type": "execute_result"
    }
   ],
   "source": [
    "bins=[0,500000,1000000,2000000,4000000,8000000]\n",
    "group=['Very Low',\"Low\",\"Medium\",\"High\",\"Very_High\"]\n",
    "train[\"Income_bin\"]=pd.cut(train[\"Family_income\"],bins,labels=group)\n",
    "train[[\"Family_income\",\"Income_bin\"]].head(10)"
   ]
  },
  {
   "cell_type": "code",
   "execution_count": 54,
   "id": "2c4fd20a",
   "metadata": {},
   "outputs": [
    {
     "data": {
      "text/plain": [
       "<AxesSubplot:xlabel='Income_bin'>"
      ]
     },
     "execution_count": 54,
     "metadata": {},
     "output_type": "execute_result"
    },
    {
     "data": {
      "image/png": "[encoded data removed]",
      "text/plain": [
       "<Figure size 432x288 with 1 Axes>"
      ]
     },
     "metadata": {
      "needs_background": "light"
     },
     "output_type": "display_data"
    }
   ],
   "source": [
    "pd.crosstab(train['Income_bin'],train[\"Loan_Status\"],normalize=False).plot(kind=\"bar\")"
   ]
  },
  {
   "cell_type": "code",
   "execution_count": 55,
   "id": "3c960003",
   "metadata": {},
   "outputs": [
    {
     "data": {
      "text/html": [
       "<div>\n",
       "<style scoped>\n",
       "    .dataframe tbody tr th:only-of-type {\n",
       "        vertical-align: middle;\n",
       "    }\n",
       "\n",
       "    .dataframe tbody tr th {\n",
       "        vertical-align: top;\n",
       "    }\n",
       "\n",
       "    .dataframe thead tr th {\n",
       "        text-align: left;\n",
       "    }\n",
       "\n",
       "    .dataframe thead tr:last-of-type th {\n",
       "        text-align: right;\n",
       "    }\n",
       "</style>\n",
       "<table border=\"1\" class=\"dataframe\">\n",
       "  <thead>\n",
       "    <tr>\n",
       "      <th></th>\n",
       "      <th colspan=\"2\" halign=\"left\">Percentage</th>\n",
       "    </tr>\n",
       "    <tr>\n",
       "      <th>Loan_Status</th>\n",
       "      <th>N</th>\n",
       "      <th>Y</th>\n",
       "    </tr>\n",
       "    <tr>\n",
       "      <th>Income_bin</th>\n",
       "      <th></th>\n",
       "      <th></th>\n",
       "    </tr>\n",
       "  </thead>\n",
       "  <tbody>\n",
       "    <tr>\n",
       "      <th>Very Low</th>\n",
       "      <td>0.750000</td>\n",
       "      <td>0.250000</td>\n",
       "    </tr>\n",
       "    <tr>\n",
       "      <th>Low</th>\n",
       "      <td>0.296053</td>\n",
       "      <td>0.703947</td>\n",
       "    </tr>\n",
       "    <tr>\n",
       "      <th>Medium</th>\n",
       "      <td>0.300752</td>\n",
       "      <td>0.699248</td>\n",
       "    </tr>\n",
       "    <tr>\n",
       "      <th>High</th>\n",
       "      <td>0.311688</td>\n",
       "      <td>0.688312</td>\n",
       "    </tr>\n",
       "    <tr>\n",
       "      <th>Very_High</th>\n",
       "      <td>0.583333</td>\n",
       "      <td>0.416667</td>\n",
       "    </tr>\n",
       "  </tbody>\n",
       "</table>\n",
       "</div>"
      ],
      "text/plain": [
       "            Percentage          \n",
       "Loan_Status          N         Y\n",
       "Income_bin                      \n",
       "Very Low      0.750000  0.250000\n",
       "Low           0.296053  0.703947\n",
       "Medium        0.300752  0.699248\n",
       "High          0.311688  0.688312\n",
       "Very_High     0.583333  0.416667"
      ]
     },
     "execution_count": 55,
     "metadata": {},
     "output_type": "execute_result"
    },
    {
     "data": {
      "image/png": "[encoded data removed]",
      "text/plain": [
       "<Figure size 432x288 with 1 Axes>"
      ]
     },
     "metadata": {
      "needs_background": "light"
     },
     "output_type": "display_data"
    }
   ],
   "source": [
    "temp=train.groupby(\"Income_bin\")[\"Loan_Status\"].value_counts(normalize=True)\n",
    "temp=pd.DataFrame(temp)\n",
    "temp.rename(columns={\"Loan_Status\":\"Percentage\"},inplace=True)\n",
    "temp=temp.reset_index(level=[0,1])\n",
    "temp=temp.pivot(columns=[\"Loan_Status\"],index=\"Income_bin\")\n",
    "temp.plot(kind='bar')\n",
    "temp.head()"
   ]
  },
  {
   "cell_type": "code",
   "execution_count": null,
   "id": "154e1a4b",
   "metadata": {},
   "outputs": [],
   "source": []
  },
  {
   "cell_type": "code",
   "execution_count": null,
   "id": "76c18dc0",
   "metadata": {},
   "outputs": [],
   "source": []
  }
 ],
 "metadata": {
  "kernelspec": {
   "display_name": "Python 3 (ipykernel)",
   "language": "python",
   "name": "python3"
  },
  "language_info": {
   "codemirror_mode": {
    "name": "ipython",
    "version": 3
   },
   "file_extension": ".py",
   "mimetype": "text/x-python",
   "name": "python",
   "nbconvert_exporter": "python",
   "pygments_lexer": "ipython3",
   "version": "3.9.12"
  }
 },
 "nbformat": 4,
 "nbformat_minor": 5
}
